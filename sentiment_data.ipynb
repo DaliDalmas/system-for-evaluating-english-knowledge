{
 "cells": [
  {
   "cell_type": "code",
   "execution_count": 13,
   "id": "f92fd8f4-3e3c-4754-8263-ba42ca0a6f85",
   "metadata": {},
   "outputs": [],
   "source": [
    "amazon_reviews = [\n",
    "    \"\"\"\n",
    "    This is a very good tin.\n",
    "    \"\"\",\n",
    "    \"\"\"\n",
    "    I can't tell what I hate about this mic but I just dislike it.\n",
    "    \"\"\",\n",
    "    \"\"\"\n",
    "    I was worried at first but since delivery I like it.\n",
    "    \"\"\",\n",
    "    \"\"\"\n",
    "    Extremely disappointed that this sat on my desk for a month.\n",
    "    \"\"\",\n",
    "    \"\"\"\n",
    "    Would love to return it if I could but it is too late. Maybe don't buy used anymore. \n",
    "    \"\"\",\n",
    "    \"\"\"\n",
    "    The fact it doesn't have it's own power leads to a whole slew of issues.\n",
    "    No constant memory so the settings are loaded every time the PC restarts. \n",
    "    \"\"\",\n",
    "    \"\"\"\n",
    "    Finally found a good mixer and volume control for multiple devices.\n",
    "    \"\"\",\n",
    "    \"\"\"\n",
    "    Okay first off I am no audio professional by any means,\n",
    "    but I did want full control of my audio for my stream.\n",
    "    \"\"\",\n",
    "    \"\"\"\n",
    "    A perfect stand for the GOXLR it prevents 99% of the problems\n",
    "    ive had with the device for not having it.\n",
    "    No more accidental bumps and misconfiguring my Drivers.\n",
    "    \"\"\",\n",
    "    \"\"\"\n",
    "    WORTH THE PRICE!!!!! Hands down best mixer for any thing you may need it for.\n",
    "    I stream on twitch and has had improved my stream 100%\n",
    "    \"\"\",\n",
    "    \"\"\"This is very bad\"\"\",\n",
    "    \"\"\"It's fantastic instrument with a couple of flaws.\"\"\",\n",
    "    \"\"\"I am not as impressed with the writing aspect of it\"\"\"\n",
    "]"
   ]
  },
  {
   "cell_type": "code",
   "execution_count": 14,
   "id": "c044695c-8f8c-4df3-badc-85ce44243ba7",
   "metadata": {},
   "outputs": [],
   "source": [
    "import pandas as pd"
   ]
  },
  {
   "cell_type": "code",
   "execution_count": 15,
   "id": "f6349109-cfcf-4aeb-a0de-42ea378013c0",
   "metadata": {},
   "outputs": [],
   "source": [
    "data = pd.DataFrame({'full_text':amazon_reviews})"
   ]
  },
  {
   "cell_type": "code",
   "execution_count": 16,
   "id": "0d983bf7-7457-4c8a-ab47-b8da05507cbf",
   "metadata": {},
   "outputs": [
    {
     "data": {
      "text/html": [
       "<div>\n",
       "<style scoped>\n",
       "    .dataframe tbody tr th:only-of-type {\n",
       "        vertical-align: middle;\n",
       "    }\n",
       "\n",
       "    .dataframe tbody tr th {\n",
       "        vertical-align: top;\n",
       "    }\n",
       "\n",
       "    .dataframe thead th {\n",
       "        text-align: right;\n",
       "    }\n",
       "</style>\n",
       "<table border=\"1\" class=\"dataframe\">\n",
       "  <thead>\n",
       "    <tr style=\"text-align: right;\">\n",
       "      <th></th>\n",
       "      <th>full_text</th>\n",
       "    </tr>\n",
       "  </thead>\n",
       "  <tbody>\n",
       "    <tr>\n",
       "      <th>0</th>\n",
       "      <td>\\n    This is a very good tin.\\n</td>\n",
       "    </tr>\n",
       "    <tr>\n",
       "      <th>1</th>\n",
       "      <td>\\n    I can't tell what I hate about this mic ...</td>\n",
       "    </tr>\n",
       "    <tr>\n",
       "      <th>2</th>\n",
       "      <td>\\n    I was worried at first but since deliver...</td>\n",
       "    </tr>\n",
       "    <tr>\n",
       "      <th>3</th>\n",
       "      <td>\\n    Extremely disappointed that this sat on ...</td>\n",
       "    </tr>\n",
       "    <tr>\n",
       "      <th>4</th>\n",
       "      <td>\\n    Would love to return it if I could but i...</td>\n",
       "    </tr>\n",
       "  </tbody>\n",
       "</table>\n",
       "</div>"
      ],
      "text/plain": [
       "                                           full_text\n",
       "0               \\n    This is a very good tin.\\n    \n",
       "1  \\n    I can't tell what I hate about this mic ...\n",
       "2  \\n    I was worried at first but since deliver...\n",
       "3  \\n    Extremely disappointed that this sat on ...\n",
       "4  \\n    Would love to return it if I could but i..."
      ]
     },
     "execution_count": 16,
     "metadata": {},
     "output_type": "execute_result"
    }
   ],
   "source": [
    "data.head()"
   ]
  },
  {
   "cell_type": "code",
   "execution_count": null,
   "id": "c5f946e3-024d-47e6-9981-6a41db470f62",
   "metadata": {},
   "outputs": [],
   "source": []
  }
 ],
 "metadata": {
  "kernelspec": {
   "display_name": "Python 3 (ipykernel)",
   "language": "python",
   "name": "python3"
  },
  "language_info": {
   "codemirror_mode": {
    "name": "ipython",
    "version": 3
   },
   "file_extension": ".py",
   "mimetype": "text/x-python",
   "name": "python",
   "nbconvert_exporter": "python",
   "pygments_lexer": "ipython3",
   "version": "3.10.0"
  }
 },
 "nbformat": 4,
 "nbformat_minor": 5
}
